{
 "cells": [
  {
   "cell_type": "markdown",
   "metadata": {},
   "source": [
    "Kyle Timmermans (Rose Hill) - Prof. Mao - Lab 2 - 10/4/20"
   ]
  },
  {
   "cell_type": "markdown",
   "metadata": {},
   "source": [
    "Connect to sql extension"
   ]
  },
  {
   "cell_type": "code",
   "execution_count": 2,
   "metadata": {},
   "outputs": [
    {
     "name": "stdout",
     "output_type": "stream",
     "text": [
      "The sql extension is already loaded. To reload it, use:\n",
      "  %reload_ext sql\n"
     ]
    }
   ],
   "source": [
    "%load_ext sql"
   ]
  },
  {
   "cell_type": "markdown",
   "metadata": {},
   "source": [
    "Q1: Create database called \"lab2.db3\""
   ]
  },
  {
   "cell_type": "code",
   "execution_count": 3,
   "metadata": {},
   "outputs": [
    {
     "data": {
      "text/plain": [
       "'Connected: @lab2.db3'"
      ]
     },
     "execution_count": 3,
     "metadata": {},
     "output_type": "execute_result"
    }
   ],
   "source": [
    "%%sql sqlite:///lab2.db3"
   ]
  },
  {
   "cell_type": "markdown",
   "metadata": {},
   "source": [
    "Q2: Create tables and insert values"
   ]
  },
  {
   "cell_type": "code",
   "execution_count": 4,
   "metadata": {},
   "outputs": [
    {
     "name": "stdout",
     "output_type": "stream",
     "text": [
      "Done.\n",
      "Done.\n",
      "1 rows affected.\n",
      "1 rows affected.\n",
      "1 rows affected.\n",
      "Done.\n",
      "Done.\n",
      "1 rows affected.\n",
      "1 rows affected.\n",
      "Done.\n",
      "Done.\n",
      "1 rows affected.\n",
      "1 rows affected.\n"
     ]
    },
    {
     "data": {
      "text/plain": [
       "[]"
      ]
     },
     "execution_count": 4,
     "metadata": {},
     "output_type": "execute_result"
    }
   ],
   "source": [
    "%%sql sqlite://\n",
    "    DROP TABLE IF EXISTS Sailors;\n",
    "    CREATE TABLE Sailors (sid INTEGER, sname CHAR(20), rating INTEGER, age DECIMAL(3,1));\n",
    "    INSERT INTO Sailors VALUES (22, 'dustin', 7, 45.0);\n",
    "    INSERT INTO Sailors VALUES (31, 'lubber', 8, 55.5);\n",
    "    INSERT INTO Sailors VALUES (58, 'rusty', 10, 35.0);\n",
    "    -------\n",
    "    DROP TABLE IF EXISTS Boats;\n",
    "    CREATE TABLE Boats (bid INTEGER, name CHAR(20), color CHAR(20));\n",
    "    INSERT INTO Boats VALUES (101, 'interlake', 'red');\n",
    "    INSERT INTO Boats VALUES (103, 'clipper', 'green');\n",
    "    -------\n",
    "    DROP TABLE IF EXISTS Reserves;\n",
    "    CREATE TABLE Reserves (sid INTEGER, bid INTEGER, day CHAR(20));\n",
    "    INSERT INTO Reserves VALUES (22, 101, '10/10/96');\n",
    "    INSERT INTO Reserves VALUES (58, 103, '11/12/96');"
   ]
  },
  {
   "cell_type": "markdown",
   "metadata": {},
   "source": [
    "Q3: Find names of sailors who’ve reserved boat #103"
   ]
  },
  {
   "cell_type": "code",
   "execution_count": 10,
   "metadata": {},
   "outputs": [
    {
     "name": "stdout",
     "output_type": "stream",
     "text": [
      " * sqlite:///lab2.db3\n",
      "Done.\n"
     ]
    },
    {
     "data": {
      "text/html": [
       "<table>\n",
       "    <tr>\n",
       "        <th>sname</th>\n",
       "    </tr>\n",
       "    <tr>\n",
       "        <td>rusty</td>\n",
       "    </tr>\n",
       "</table>"
      ],
      "text/plain": [
       "[('rusty',)]"
      ]
     },
     "execution_count": 10,
     "metadata": {},
     "output_type": "execute_result"
    }
   ],
   "source": [
    "%sql SELECT sname FROM Sailors S WHERE S.sid IN (SELECT R.sid FROM Reserves R WHERE R.bid=103);"
   ]
  },
  {
   "cell_type": "markdown",
   "metadata": {},
   "source": [
    "Q4: Find names of sailors who’ve reserved a red boat"
   ]
  },
  {
   "cell_type": "code",
   "execution_count": 11,
   "metadata": {},
   "outputs": [
    {
     "name": "stdout",
     "output_type": "stream",
     "text": [
      " * sqlite:///lab2.db3\n",
      "Done.\n"
     ]
    },
    {
     "data": {
      "text/html": [
       "<table>\n",
       "    <tr>\n",
       "        <th>sname</th>\n",
       "    </tr>\n",
       "    <tr>\n",
       "        <td>dustin</td>\n",
       "    </tr>\n",
       "</table>"
      ],
      "text/plain": [
       "[('dustin',)]"
      ]
     },
     "execution_count": 11,
     "metadata": {},
     "output_type": "execute_result"
    }
   ],
   "source": [
    "%sql SELECT S.sname FROM Sailors S, Boats B, Reserves R WHERE S.sid=R.sid AND R.bid=B.bid AND B.color='red'"
   ]
  },
  {
   "cell_type": "markdown",
   "metadata": {},
   "source": [
    "Q5: Find names of sailors who’ve reserved a red or a green boat"
   ]
  },
  {
   "cell_type": "markdown",
   "metadata": {},
   "source": [
    "Similar to previous statement but add OR color"
   ]
  },
  {
   "cell_type": "code",
   "execution_count": 12,
   "metadata": {},
   "outputs": [
    {
     "name": "stdout",
     "output_type": "stream",
     "text": [
      " * sqlite:///lab2.db3\n",
      "Done.\n"
     ]
    },
    {
     "data": {
      "text/html": [
       "<table>\n",
       "    <tr>\n",
       "        <th>sname</th>\n",
       "    </tr>\n",
       "    <tr>\n",
       "        <td>dustin</td>\n",
       "    </tr>\n",
       "    <tr>\n",
       "        <td>rusty</td>\n",
       "    </tr>\n",
       "</table>"
      ],
      "text/plain": [
       "[('dustin',), ('rusty',)]"
      ]
     },
     "execution_count": 12,
     "metadata": {},
     "output_type": "execute_result"
    }
   ],
   "source": [
    "%sql SELECT S.sname FROM Sailors S, Boats B, Reserves R WHERE S.sid=R.sid AND R.bid=B.bid AND (B.color='red' OR B.color='green')"
   ]
  },
  {
   "cell_type": "markdown",
   "metadata": {},
   "source": [
    "Q6: Find names of sailors who’ve reserved a red and a green boat"
   ]
  },
  {
   "cell_type": "markdown",
   "metadata": {},
   "source": [
    "Going to need R2 and B2 for this one too (No sailor has reserved both colors so will only show sname)"
   ]
  },
  {
   "cell_type": "code",
   "execution_count": 13,
   "metadata": {},
   "outputs": [
    {
     "name": "stdout",
     "output_type": "stream",
     "text": [
      " * sqlite:///lab2.db3\n",
      "Done.\n"
     ]
    },
    {
     "data": {
      "text/html": [
       "<table>\n",
       "    <tr>\n",
       "        <th>sname</th>\n",
       "    </tr>\n",
       "</table>"
      ],
      "text/plain": [
       "[]"
      ]
     },
     "execution_count": 13,
     "metadata": {},
     "output_type": "execute_result"
    }
   ],
   "source": [
    "%sql SELECT S.sname FROM Sailors S, Boats B, Reserves R, Boats B1, Reserves R1 WHERE S.sid=R.sid AND R.bid=B.bid AND S.sid=R1.sid AND R1.bid=B1.bid AND B.color='red' AND B1.color='green';"
   ]
  },
  {
   "cell_type": "markdown",
   "metadata": {},
   "source": [
    "Q7: Find names of sailors who’ve reserved only red boats. (Hint: you can combine \"NOT\" and \"IN\"\n",
    "operations.)"
   ]
  },
  {
   "cell_type": "markdown",
   "metadata": {},
   "source": [
    "Double nested to get sname from R.sid"
   ]
  },
  {
   "cell_type": "code",
   "execution_count": 25,
   "metadata": {},
   "outputs": [
    {
     "name": "stdout",
     "output_type": "stream",
     "text": [
      " * sqlite:///lab2.db3\n",
      "Done.\n"
     ]
    },
    {
     "data": {
      "text/html": [
       "<table>\n",
       "    <tr>\n",
       "        <th>sname</th>\n",
       "    </tr>\n",
       "    <tr>\n",
       "        <td>dustin</td>\n",
       "    </tr>\n",
       "</table>"
      ],
      "text/plain": [
       "[('dustin',)]"
      ]
     },
     "execution_count": 25,
     "metadata": {},
     "output_type": "execute_result"
    }
   ],
   "source": [
    "%sql SELECT sname FROM Sailors S WHERE S.sid IN (SELECT R.sid FROM Reserves R, Boats B WHERE B.color='red' AND B.bid=R.bid AND R.sid NOT IN (SELECT R1.sid FROM Reserves R1, Boats B1 WHERE B1.color<>'red' AND B1.bid = R1.bid));"
   ]
  }
 ],
 "metadata": {
  "kernelspec": {
   "display_name": "Python 3",
   "language": "python",
   "name": "python3"
  },
  "language_info": {
   "codemirror_mode": {
    "name": "ipython",
    "version": 3
   },
   "file_extension": ".py",
   "mimetype": "text/x-python",
   "name": "python",
   "nbconvert_exporter": "python",
   "pygments_lexer": "ipython3",
   "version": "3.8.3"
  }
 },
 "nbformat": 4,
 "nbformat_minor": 4
}

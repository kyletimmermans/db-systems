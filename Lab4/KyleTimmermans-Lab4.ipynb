{
 "cells": [
  {
   "cell_type": "markdown",
   "metadata": {},
   "source": [
    "Kyle Timmermans (Lab4) - Prof. Ying Mao - Rose Hill - 12/2/20"
   ]
  },
  {
   "cell_type": "code",
   "execution_count": 3,
   "metadata": {},
   "outputs": [
    {
     "name": "stdout",
     "output_type": "stream",
     "text": [
      "The sql extension is already loaded. To reload it, use:\n",
      "  %reload_ext sql\n"
     ]
    },
    {
     "data": {
      "text/plain": [
       "'Connected: @Lab4.db3'"
      ]
     },
     "execution_count": 3,
     "metadata": {},
     "output_type": "execute_result"
    }
   ],
   "source": [
    "%load_ext sql\n",
    "%sql sqlite:///Lab4.db3"
   ]
  },
  {
   "cell_type": "markdown",
   "metadata": {},
   "source": [
    "Q1 - {A} is a superkey for a relation T(A,B,C,D)."
   ]
  },
  {
   "cell_type": "code",
   "execution_count": 4,
   "metadata": {},
   "outputs": [
    {
     "name": "stdout",
     "output_type": "stream",
     "text": [
      "Done.\n",
      "Done.\n",
      "Done.\n",
      "Done.\n"
     ]
    },
    {
     "data": {
      "text/plain": [
       "[]"
      ]
     },
     "execution_count": 4,
     "metadata": {},
     "output_type": "execute_result"
    }
   ],
   "source": [
    "%%sql sqlite://\n",
    "    DROP TABLE IF EXISTS TP;\n",
    "    CREATE TABLE TP (A CHAR(20), B INTEGER, C INTEGER, D INTEGER);\n",
    "    DROP TABLE IF EXISTS TF;\n",
    "    CREATE TABLE TF (A CHAR(20), B INTEGER, C INTEGER, D INTEGER);"
   ]
  },
  {
   "cell_type": "markdown",
   "metadata": {},
   "source": [
    "2 Tables that satisfy and doesn't satisfy for Q1"
   ]
  },
  {
   "cell_type": "code",
   "execution_count": 6,
   "metadata": {},
   "outputs": [
    {
     "name": "stdout",
     "output_type": "stream",
     "text": [
      "1 rows affected.\n",
      "1 rows affected.\n",
      "1 rows affected.\n",
      "1 rows affected.\n",
      "1 rows affected.\n",
      "Done.\n",
      "1 rows affected.\n",
      "1 rows affected.\n",
      "1 rows affected.\n",
      "1 rows affected.\n"
     ]
    },
    {
     "data": {
      "text/plain": [
       "[]"
      ]
     },
     "execution_count": 6,
     "metadata": {},
     "output_type": "execute_result"
    }
   ],
   "source": [
    "%%sql sqlite://\n",
    "    INSERT INTO TP VALUES ('Jason',1997, 5, 19);\n",
    "    INSERT INTO TP VALUES ('Yolanda',1997, 1, 10);\n",
    "    INSERT INTO TP VALUES ('Kris',1997, 7, 14);\n",
    "    INSERT INTO TP VALUES ('Maggie',1997, 11, 26);\n",
    "    INSERT INTO TP VALUES ('Heng',1998, 3, 5);\n",
    "    -------\n",
    "    INSERT INTO TF VALUES ('Jason',1997, 5, 19);\n",
    "    INSERT INTO TF VALUES ('Jason',1997, 1, 10);\n",
    "    INSERT INTO TF VALUES ('Kris',1997, 7, 14);\n",
    "    INSERT INTO TF VALUES ('Maggie',1997, 11, 26);\n",
    "    INSERT INTO TF VALUES ('Heng',1998, 3, 5);"
   ]
  },
  {
   "cell_type": "markdown",
   "metadata": {},
   "source": [
    "TP Table satisfies requirement"
   ]
  },
  {
   "cell_type": "code",
   "execution_count": 8,
   "metadata": {},
   "outputs": [
    {
     "name": "stdout",
     "output_type": "stream",
     "text": [
      "Done.\n"
     ]
    },
    {
     "data": {
      "text/html": [
       "<table>\n",
       "    <tr>\n",
       "        <th>COUNT(*)</th>\n",
       "    </tr>\n",
       "    <tr>\n",
       "        <td>0</td>\n",
       "    </tr>\n",
       "</table>"
      ],
      "text/plain": [
       "[(0,)]"
      ]
     },
     "execution_count": 8,
     "metadata": {},
     "output_type": "execute_result"
    }
   ],
   "source": [
    "%%sql sqlite://\n",
    "    SELECT COUNT(*)\n",
    "    FROM TP AS TP1, TP AS TP2\n",
    "    WHERE TP1.A = TP2.A AND (TP1.B != TP2.B OR TP1.C != TP2.C OR TP1.D != TP2.D)"
   ]
  },
  {
   "cell_type": "markdown",
   "metadata": {},
   "source": [
    "TF Table doesn't satisfy requirment"
   ]
  },
  {
   "cell_type": "code",
   "execution_count": 9,
   "metadata": {},
   "outputs": [
    {
     "name": "stdout",
     "output_type": "stream",
     "text": [
      "Done.\n"
     ]
    },
    {
     "data": {
      "text/html": [
       "<table>\n",
       "    <tr>\n",
       "        <th>COUNT(*)</th>\n",
       "    </tr>\n",
       "    <tr>\n",
       "        <td>2</td>\n",
       "    </tr>\n",
       "</table>"
      ],
      "text/plain": [
       "[(2,)]"
      ]
     },
     "execution_count": 9,
     "metadata": {},
     "output_type": "execute_result"
    }
   ],
   "source": [
    "%%sql sqlite://\n",
    "    SELECT COUNT(*)\n",
    "    FROM TF AS TF1, TF AS TF2\n",
    "    WHERE TF1.A = TF2.A AND (TF1.B != TF2.B OR TF1.C != TF2.C OR TF1.D != TF2.D)"
   ]
  },
  {
   "cell_type": "markdown",
   "metadata": {},
   "source": [
    "Q2 - The combination of two attributes in the relation T(A,B,C,D) are each keys\n",
    "\n",
    "- Needs 4 tables"
   ]
  },
  {
   "cell_type": "code",
   "execution_count": 38,
   "metadata": {},
   "outputs": [
    {
     "name": "stdout",
     "output_type": "stream",
     "text": [
      "Done.\n",
      "Done.\n"
     ]
    },
    {
     "data": {
      "text/plain": [
       "[]"
      ]
     },
     "execution_count": 38,
     "metadata": {},
     "output_type": "execute_result"
    }
   ],
   "source": [
    "%%sql sqlite://\n",
    "    DROP TABLE IF EXISTS Q2T;\n",
    "    CREATE TABLE Q2T (A INTEGER, B INTEGER, C INTEGER, D INTEGER);"
   ]
  },
  {
   "cell_type": "code",
   "execution_count": 39,
   "metadata": {},
   "outputs": [
    {
     "name": "stdout",
     "output_type": "stream",
     "text": [
      "1 rows affected.\n",
      "1 rows affected.\n",
      "1 rows affected.\n",
      "1 rows affected.\n",
      "1 rows affected.\n"
     ]
    },
    {
     "data": {
      "text/plain": [
       "[]"
      ]
     },
     "execution_count": 39,
     "metadata": {},
     "output_type": "execute_result"
    }
   ],
   "source": [
    "%%sql sqlite://\n",
    "    INSERT INTO Q2T VALUES (1, 0, 1, 1);\n",
    "    INSERT INTO Q2T VALUES (1, 1, 0, 0);\n",
    "    INSERT INTO Q2T VALUES (0, 0, 0, 0);\n",
    "    INSERT INTO Q2T VALUES (1, 1, 1, 1);\n",
    "    INSERT INTO Q2T VALUES (0, 1, 1, 0);"
   ]
  },
  {
   "cell_type": "code",
   "execution_count": 50,
   "metadata": {
    "scrolled": false
   },
   "outputs": [
    {
     "name": "stdout",
     "output_type": "stream",
     "text": [
      " * sqlite:///Lab4.db3\n",
      "Done.\n"
     ]
    },
    {
     "data": {
      "text/html": [
       "<table>\n",
       "    <tr>\n",
       "        <th>A</th>\n",
       "        <th>B</th>\n",
       "        <th>C</th>\n",
       "        <th>D</th>\n",
       "    </tr>\n",
       "    <tr>\n",
       "        <td>0</td>\n",
       "        <td>0</td>\n",
       "        <td>0</td>\n",
       "        <td>0</td>\n",
       "    </tr>\n",
       "    <tr>\n",
       "        <td>0</td>\n",
       "        <td>1</td>\n",
       "        <td>1</td>\n",
       "        <td>0</td>\n",
       "    </tr>\n",
       "    <tr>\n",
       "        <td>1</td>\n",
       "        <td>0</td>\n",
       "        <td>1</td>\n",
       "        <td>1</td>\n",
       "    </tr>\n",
       "    <tr>\n",
       "        <td>1</td>\n",
       "        <td>1</td>\n",
       "        <td>0</td>\n",
       "        <td>0</td>\n",
       "    </tr>\n",
       "</table>"
      ],
      "text/plain": [
       "[(0, 0, 0, 0), (0, 1, 1, 0), (1, 0, 1, 1), (1, 1, 0, 0)]"
      ]
     },
     "execution_count": 50,
     "metadata": {},
     "output_type": "execute_result"
    }
   ],
   "source": [
    "%sql SELECT * FROM Q2T GROUP BY A,B;"
   ]
  },
  {
   "cell_type": "markdown",
   "metadata": {},
   "source": [
    "Keys for Q2:\n",
    "Q2T(AB)\n",
    "Q2T(AC)\n",
    "Q2T(AD)\n",
    "Q2T(BC)\n",
    "Q2T(BD)\n",
    "Q2T(CD)"
   ]
  },
  {
   "cell_type": "markdown",
   "metadata": {},
   "source": [
    "Q3 - TGD between two relations A and B\n",
    "\n",
    "- Needs 4 Tables"
   ]
  },
  {
   "cell_type": "code",
   "execution_count": 90,
   "metadata": {},
   "outputs": [
    {
     "name": "stdout",
     "output_type": "stream",
     "text": [
      "Done.\n",
      "Done.\n",
      "Done.\n",
      "Done.\n"
     ]
    },
    {
     "data": {
      "text/plain": [
       "[]"
      ]
     },
     "execution_count": 90,
     "metadata": {},
     "output_type": "execute_result"
    }
   ],
   "source": [
    "%%sql sqlite://\n",
    "    DROP TABLE IF EXISTS sailors;\n",
    "    CREATE TABLE sailors (sid INTEGER, sname CHAR(20), rating INTEGER, age INTEGER);\n",
    "    DROP TABLE IF EXISTS reserves;\n",
    "    CREATE TABLE reserves(sid INTEGER, bid INTEGER, sname CHAR(20), bname CHAR(20), date CHAR(20));"
   ]
  },
  {
   "cell_type": "markdown",
   "metadata": {},
   "source": [
    "Tables for Q3"
   ]
  },
  {
   "cell_type": "code",
   "execution_count": 91,
   "metadata": {},
   "outputs": [
    {
     "name": "stdout",
     "output_type": "stream",
     "text": [
      "1 rows affected.\n",
      "1 rows affected.\n",
      "1 rows affected.\n",
      "1 rows affected.\n",
      "Done.\n",
      "1 rows affected.\n",
      "1 rows affected.\n",
      "1 rows affected.\n"
     ]
    },
    {
     "data": {
      "text/plain": [
       "[]"
      ]
     },
     "execution_count": 91,
     "metadata": {},
     "output_type": "execute_result"
    }
   ],
   "source": [
    "%%sql sqlite://\n",
    "    INSERT INTO sailors VALUES (1, 'Johhny', 9, 25);\n",
    "    INSERT INTO sailors VALUES (2, 'David', 7, 40);\n",
    "    INSERT INTO sailors VALUES (3, 'Sam', 4, 50);\n",
    "    INSERT INTO sailors VALUES (4, 'Connor', 2, 55);\n",
    "    -------  \n",
    "    INSERT INTO reserves VALUES (1, 1, 'Johnny', 'Crimson', '5-10-2020');\n",
    "    INSERT INTO reserves VALUES (2, 2, 'David', 'Ripetide', '7-25-2020');\n",
    "    INSERT INTO reserves VALUES (3, 1, 'Sam', 'Crimson', '12-2-2020');\n",
    "    INSERT INTO reserves VALUES (4, 2, 'Connor', 'Ripetide', '12-2-2020');"
   ]
  },
  {
   "cell_type": "code",
   "execution_count": 93,
   "metadata": {},
   "outputs": [
    {
     "name": "stdout",
     "output_type": "stream",
     "text": [
      "Done.\n"
     ]
    },
    {
     "data": {
      "text/html": [
       "<table>\n",
       "    <tr>\n",
       "        <th>bid</th>\n",
       "    </tr>\n",
       "    <tr>\n",
       "        <td>1</td>\n",
       "    </tr>\n",
       "</table>"
      ],
      "text/plain": [
       "[(1,)]"
      ]
     },
     "execution_count": 93,
     "metadata": {},
     "output_type": "execute_result"
    }
   ],
   "source": [
    "%%sql sqlite://\n",
    "    SELECT bid\n",
    "    FROM reserves R, sailors S\n",
    "    WHERE S.sid=R.sid And S.sname='Sam'"
   ]
  },
  {
   "cell_type": "markdown",
   "metadata": {},
   "source": [
    "This is a tuple generating dependancy here between the sailors and reserves table because if 'Sam' isn't a value in reserves, then bid is returned as an empty set."
   ]
  },
  {
   "cell_type": "markdown",
   "metadata": {},
   "source": [
    "Q4 - A multivalued dependency (MVD)"
   ]
  },
  {
   "cell_type": "code",
   "execution_count": 111,
   "metadata": {},
   "outputs": [
    {
     "name": "stdout",
     "output_type": "stream",
     "text": [
      "Done.\n",
      "Done.\n",
      "Done.\n",
      "Done.\n",
      "Done.\n",
      "Done.\n"
     ]
    },
    {
     "data": {
      "text/plain": [
       "[]"
      ]
     },
     "execution_count": 111,
     "metadata": {},
     "output_type": "execute_result"
    }
   ],
   "source": [
    "%%sql sqlite://\n",
    "    DROP TABLE IF EXISTS R;\n",
    "    CREATE TABLE R (A INTEGER, B INTEGER, C INTEGER, D INTEGER, E INTEGER);\n",
    "    DROP TABLE IF EXISTS X;\n",
    "    CREATE TABLE X (A INTEGER, B INTEGER, C INTEGER);\n",
    "    DROP TABLE IF EXISTS Y;\n",
    "    CREATE TABLE Y (C INTEGER, D INTEGER, E INTEGER);"
   ]
  },
  {
   "cell_type": "code",
   "execution_count": 112,
   "metadata": {},
   "outputs": [
    {
     "name": "stdout",
     "output_type": "stream",
     "text": [
      "1 rows affected.\n",
      "1 rows affected.\n",
      "1 rows affected.\n"
     ]
    },
    {
     "data": {
      "text/plain": [
       "[]"
      ]
     },
     "execution_count": 112,
     "metadata": {},
     "output_type": "execute_result"
    }
   ],
   "source": [
    "%%sql sqlite://\n",
    "    INSERT INTO R VALUES (1, 2, 3, 4, 5);\n",
    "    INSERT INTO X VALUES (1, 2, 3);\n",
    "    INSERT INTO Y VALUES (1, 2, 3);"
   ]
  },
  {
   "cell_type": "markdown",
   "metadata": {},
   "source": [
    "Must have self joins, nested SQL calls, and EXISTS/NOT EXISTS"
   ]
  },
  {
   "cell_type": "code",
   "execution_count": 114,
   "metadata": {},
   "outputs": [
    {
     "name": "stdout",
     "output_type": "stream",
     "text": [
      "Done.\n"
     ]
    },
    {
     "data": {
      "text/html": [
       "<table>\n",
       "    <tr>\n",
       "        <th>A</th>\n",
       "        <th>B</th>\n",
       "        <th>C</th>\n",
       "        <th>D</th>\n",
       "        <th>E</th>\n",
       "        <th>A_1</th>\n",
       "        <th>B_1</th>\n",
       "        <th>C_1</th>\n",
       "    </tr>\n",
       "</table>"
      ],
      "text/plain": [
       "[]"
      ]
     },
     "execution_count": 114,
     "metadata": {},
     "output_type": "execute_result"
    }
   ],
   "source": [
    "%%sql sqlite://\n",
    "SELECT *\n",
    "FROM R as n1, X as n2\n",
    "WHERE n1.A = n2.B and\n",
    "      NOT EXISTS (\n",
    "          SELECT *\n",
    "          FROM Y n3\n",
    "          WHERE n3.C = n1.A and\n",
    "                n3.D = n1.B and\n",
    "                n3.E = n1.C);"
   ]
  },
  {
   "cell_type": "markdown",
   "metadata": {},
   "source": [
    "Two tuples satisfy the conditions stated in Q4"
   ]
  }
 ],
 "metadata": {
  "kernelspec": {
   "display_name": "Python 3",
   "language": "python",
   "name": "python3"
  },
  "language_info": {
   "codemirror_mode": {
    "name": "ipython",
    "version": 3
   },
   "file_extension": ".py",
   "mimetype": "text/x-python",
   "name": "python",
   "nbconvert_exporter": "python",
   "pygments_lexer": "ipython3",
   "version": "3.8.3"
  }
 },
 "nbformat": 4,
 "nbformat_minor": 4
}
